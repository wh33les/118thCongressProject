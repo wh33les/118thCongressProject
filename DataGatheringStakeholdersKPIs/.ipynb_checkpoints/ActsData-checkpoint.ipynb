{
 "cells": [
  {
   "cell_type": "markdown",
   "id": "d9aaa005",
   "metadata": {},
   "source": [
    "# Acts data\n",
    "\n",
    "We first need to get a list of House bills.  This script scrapes from the [List of acts of the 118th United States Congress Wikipedia page](https://en.wikipedia.org/wiki/List_of_acts_of_the_118th_United_States_Congress) for the House bills that have been enacted into federal law."
   ]
  },
  {
   "cell_type": "code",
   "execution_count": null,
   "id": "7af3865d",
   "metadata": {},
   "outputs": [],
   "source": [
    "# Packages\n",
    "\n",
    "# Get the html\n",
    "import requests\n",
    "\n",
    "# Parse the html\n",
    "from bs4 import BeautifulSoup\n",
    "\n",
    "# Delays and time for execution of the code\n",
    "import time # for debugging"
   ]
  },
  {
   "cell_type": "code",
   "execution_count": null,
   "id": "04d5dbb2",
   "metadata": {},
   "outputs": [],
   "source": [
    "# Set timer for full execution\n",
    "start_full = time.time() # for debugging\n",
    "\n",
    "#\n",
    "acts_url = \"https://en.wikipedia.org/wiki/List_of_acts_of_the_118th_United_States_Congress\"\n",
    "acts_html = requests.get(acts_url)\n",
    "\n",
    "# Parse the html\n",
    "acts_soup = BeautifulSoup(acts_html.content)"
   ]
  }
 ],
 "metadata": {
  "kernelspec": {
   "display_name": "Python 3 (ipykernel)",
   "language": "python",
   "name": "python3"
  },
  "language_info": {
   "codemirror_mode": {
    "name": "ipython",
    "version": 3
   },
   "file_extension": ".py",
   "mimetype": "text/x-python",
   "name": "python",
   "nbconvert_exporter": "python",
   "pygments_lexer": "ipython3",
   "version": "3.9.12"
  }
 },
 "nbformat": 4,
 "nbformat_minor": 5
}
