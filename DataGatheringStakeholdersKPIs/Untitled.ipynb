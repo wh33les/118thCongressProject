{
 "cells": [
  {
   "cell_type": "code",
   "execution_count": 11,
   "id": "671f0157",
   "metadata": {},
   "outputs": [
    {
     "ename": "ImportError",
     "evalue": "cannot import name 'urlencode' from 'urllib' (C:\\Users\\leyjf\\anaconda3\\lib\\urllib\\__init__.py)",
     "output_type": "error",
     "traceback": [
      "\u001b[1;31m---------------------------------------------------------------------------\u001b[0m",
      "\u001b[1;31mImportError\u001b[0m                               Traceback (most recent call last)",
      "Input \u001b[1;32mIn [11]\u001b[0m, in \u001b[0;36m<cell line: 1>\u001b[1;34m()\u001b[0m\n\u001b[1;32m----> 1\u001b[0m \u001b[38;5;28;01mimport\u001b[39;00m \u001b[38;5;21;01mlegiscan\u001b[39;00m\n\u001b[0;32m      2\u001b[0m \u001b[38;5;66;03m#from pylegiscan import LegiScan\u001b[39;00m\n\u001b[0;32m      3\u001b[0m \u001b[38;5;28;01mfrom\u001b[39;00m \u001b[38;5;21;01mwarren_api_info\u001b[39;00m \u001b[38;5;28;01mimport\u001b[39;00m get_legiscan_api_key\n",
      "File \u001b[1;32m~\\Dropbox\\github\\118thCongressProject\\DataGatheringStakeholdersKPIs\\legiscan.py:4\u001b[0m, in \u001b[0;36m<module>\u001b[1;34m\u001b[0m\n\u001b[0;32m      2\u001b[0m import os\n\u001b[0;32m      3\u001b[0m import json\n\u001b[1;32m----> 4\u001b[0m from urllib import urlencode\n\u001b[0;32m      5\u001b[0m from urllib import quote_plus\n\u001b[0;32m      6\u001b[0m \n",
      "\u001b[1;31mImportError\u001b[0m: cannot import name 'urlencode' from 'urllib' (C:\\Users\\leyjf\\anaconda3\\lib\\urllib\\__init__.py)"
     ]
    }
   ],
   "source": [
    "import legiscan\n",
    "#from pylegiscan import LegiScan\n",
    "from warren_api_info import get_legiscan_api_key\n",
    "#legis = LegiScan(get_legiscanapi_key)"
   ]
  },
  {
   "cell_type": "code",
   "execution_count": 7,
   "id": "afc95c6c",
   "metadata": {},
   "outputs": [
    {
     "data": {
      "text/plain": [
       "'46d315e6e07147524999d091f53545a2'"
      ]
     },
     "execution_count": 7,
     "metadata": {},
     "output_type": "execute_result"
    }
   ],
   "source": [
    "get_legiscan_api_key()"
   ]
  },
  {
   "cell_type": "code",
   "execution_count": null,
   "id": "8bede376",
   "metadata": {},
   "outputs": [],
   "source": []
  }
 ],
 "metadata": {
  "kernelspec": {
   "display_name": "Python 3 (ipykernel)",
   "language": "python",
   "name": "python3"
  },
  "language_info": {
   "codemirror_mode": {
    "name": "ipython",
    "version": 3
   },
   "file_extension": ".py",
   "mimetype": "text/x-python",
   "name": "python",
   "nbconvert_exporter": "python",
   "pygments_lexer": "ipython3",
   "version": "3.9.12"
  }
 },
 "nbformat": 4,
 "nbformat_minor": 5
}
