{
 "cells": [
  {
   "cell_type": "markdown",
   "id": "54c1ac41",
   "metadata": {},
   "source": [
    "# Acts data\n",
    "\n",
    "We first need to get a list of House bills.  This script scrapes from the [List of acts of the 118th United States Congress Wikipedia page](https://en.wikipedia.org/wiki/List_of_acts_of_the_118th_United_States_Congress) for the House bills that have been enacted into federal law."
   ]
  },
  {
   "cell_type": "code",
   "execution_count": null,
   "id": "1b926f13",
   "metadata": {},
   "outputs": [],
   "source": [
    "# Packages\n",
    "\n",
    "# Get the html\n",
    "import requests\n",
    "\n",
    "# Parse the html\n",
    "from bs4 import BeautifulSoup\n",
    "\n",
    "# Delays and time for execution of the code\n",
    "import time # for debugging"
   ]
  },
  {
   "cell_type": "code",
   "execution_count": null,
   "id": "5c14adc9",
   "metadata": {},
   "outputs": [],
   "source": [
    "# Set timer for full execution\n",
    "start_full = time.time() # for debugging\n",
    "\n",
    "# Get and parse the html\n",
    "acts_url = \"https://en.wikipedia.org/wiki/List_of_acts_of_the_118th_United_States_Congress\"\n",
    "acts_html = requests.get(acts_url)\n",
    "acts_soup = BeautifulSoup(acts_html.content)\n",
    "\n",
    "# Find the table\n",
    "public_laws_section = acts_soup.find('a', attrs = {})\n",
    "\n",
    "features = features_soup.find_all('h2', attrs = {'class':[\"article-title entry-title\", \"title entry-title\"]})"
   ]
  }
 ],
 "metadata": {
  "kernelspec": {
   "display_name": "Python 3 (ipykernel)",
   "language": "python",
   "name": "python3"
  },
  "language_info": {
   "codemirror_mode": {
    "name": "ipython",
    "version": 3
   },
   "file_extension": ".py",
   "mimetype": "text/x-python",
   "name": "python",
   "nbconvert_exporter": "python",
   "pygments_lexer": "ipython3",
   "version": "3.9.12"
  }
 },
 "nbformat": 4,
 "nbformat_minor": 5
}
