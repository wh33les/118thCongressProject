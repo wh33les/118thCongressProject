{
 "cells": [
  {
   "cell_type": "markdown",
   "id": "f94719b8",
   "metadata": {},
   "source": [
    "Code from https://www.purplefrogsystems.com/2023/02/my-jupyter-notebook-crashed-and-now-wont-open/#:~:text=The%20notebook%20will%20crash%20every,code%20in%20a%20separate%20notebook."
   ]
  },
  {
   "cell_type": "code",
   "execution_count": 5,
   "id": "d50f0c15",
   "metadata": {},
   "outputs": [],
   "source": [
    "from nbformat import read, write\n",
    "\n",
    "def Remove_Output(Book):\n",
    "    for cell in Book.cells:\n",
    "        if hasattr(cell, \"outputs\"):\n",
    "            cell.outputs = []\n",
    "        if hasattr(cell, \"prompt_number\"):\n",
    "            del cell[\"prompt_number\"]\n",
    "\n",
    "Book = read(open(\"DataExploration.ipynb\"), 4)\n",
    "Remove_Output(Book)\n",
    "write(Book, open(\"DELessOutput.ipynb\", \"w\"), 4)"
   ]
  },
  {
   "cell_type": "code",
   "execution_count": null,
   "id": "99d6f46a",
   "metadata": {},
   "outputs": [],
   "source": []
  }
 ],
 "metadata": {
  "kernelspec": {
   "display_name": "Python 3 (ipykernel)",
   "language": "python",
   "name": "python3"
  },
  "language_info": {
   "codemirror_mode": {
    "name": "ipython",
    "version": 3
   },
   "file_extension": ".py",
   "mimetype": "text/x-python",
   "name": "python",
   "nbconvert_exporter": "python",
   "pygments_lexer": "ipython3",
   "version": "3.9.12"
  }
 },
 "nbformat": 4,
 "nbformat_minor": 5
}
