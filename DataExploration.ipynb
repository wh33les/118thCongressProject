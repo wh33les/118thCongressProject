{
 "cells": [
  {
   "cell_type": "markdown",
   "id": "209ce7cf",
   "metadata": {},
   "source": [
    "# Data exploration"
   ]
  },
  {
   "cell_type": "code",
   "execution_count": 1,
   "id": "9f74a9a2",
   "metadata": {},
   "outputs": [
    {
     "name": "stderr",
     "output_type": "stream",
     "text": [
      "C:\\Users\\leyjf\\AppData\\Local\\Temp\\ipykernel_17508\\314631002.py:5: DtypeWarning: Columns (12) have mixed types. Specify dtype option on import or set low_memory=False.\n",
      "  bills_df = pd.read_csv(\"processed_data.csv\")\n"
     ]
    }
   ],
   "source": [
    "# Preamble\n",
    "%run Preamble.ipynb\n",
    "\n",
    "# Load data\n",
    "bills_df = pd.read_csv(\"processed_data.csv\")\n",
    "#bills_df"
   ]
  },
  {
   "cell_type": "markdown",
   "id": "58eb8396",
   "metadata": {},
   "source": [
    "Will a bill become a law?  In this Congress it happens especially rarely.  How much rarer than when it passes in the House or the Senate?"
   ]
  },
  {
   "cell_type": "code",
   "execution_count": 2,
   "id": "9358eacd",
   "metadata": {},
   "outputs": [
    {
     "name": "stdout",
     "output_type": "stream",
     "text": [
      "Number of observations:\n",
      "15366\n",
      "\n",
      "Number of bills that became law:\n",
      "64\n",
      "Probability that a bill in the 118th Congress becomes a law:\n",
      "0.004165039698034622\n",
      "\n",
      "Number of bills that passed in the House:\n",
      "539\n",
      "Probability that a bill passes in the House:\n",
      "0.03507744370688533\n",
      "Probability that a bill that passes in the House becomes a law:\n",
      "0.11873840445269017\n",
      "\n",
      "Number of bills that passed in the Senate:\n",
      "189\n",
      "Probability that a bill passes in the Senate:\n",
      "0.012299882858258494\n",
      "Probability that a bill that passes in the Senate becomes a law:\n",
      "0.3386243386243386\n",
      "\n",
      "Number of bills that passed in both chambers:\n",
      "81\n",
      "Probability that a bill that passed in both chambers will become law:\n",
      "0.7901234567901234\n"
     ]
    }
   ],
   "source": [
    "# Some probabilities\n",
    "\n",
    "# bills\n",
    "print(\"Number of observations:\")\n",
    "num_of_bills = len(bills_df)\n",
    "print(num_of_bills)\n",
    "\n",
    "# Laws\n",
    "print(\"\\nNumber of bills that became law:\")\n",
    "num_of_laws = bills_df[\"became_law.signed\"].value_counts()[1]\n",
    "print(num_of_laws)\n",
    "print(\"Probability that a bill in the 118th Congress becomes a law:\")\n",
    "prob_law = num_of_laws/num_of_bills\n",
    "print(prob_law)\n",
    "\n",
    "# House\n",
    "print(\"\\nNumber of bills that passed in the House:\")\n",
    "num_of_house_pass = bills_df[\"pass_house.passed\"].value_counts()[1]\n",
    "print(num_of_house_pass)\n",
    "print(\"Probability that a bill passes in the House:\")\n",
    "prob_house = num_of_house_pass/num_of_bills\n",
    "print(prob_house)\n",
    "print(\"Probability that a bill that passes in the House becomes a law:\")\n",
    "prob_law_given_house = num_of_laws/num_of_house_pass\n",
    "print(prob_law_given_house)\n",
    "\n",
    "# Senate\n",
    "print(\"\\nNumber of bills that passed in the Senate:\")\n",
    "num_of_senate_pass = bills_df[\"pass_senate.passed\"].value_counts()[1]\n",
    "print(num_of_senate_pass)\n",
    "print(\"Probability that a bill passes in the Senate:\")\n",
    "prob_senate = num_of_senate_pass/num_of_bills\n",
    "print(prob_senate)\n",
    "print(\"Probability that a bill that passes in the Senate becomes a law:\")\n",
    "prob_law_given_senate = num_of_laws/num_of_senate_pass\n",
    "print(prob_law_given_senate)\n",
    "\n",
    "# both\n",
    "print(\"\\nNumber of bills that passed in both chambers:\")\n",
    "both_list = []\n",
    "for i in range(len(bills_df)):\n",
    "    if bills_df.iloc[i,bills_df.columns.get_loc(\"pass_house.passed\")] == 1 and \\\n",
    "    bills_df.iloc[i,bills_df.columns.get_loc(\"pass_senate.passed\")] == 1:\n",
    "        both_list.append(1)\n",
    "    else:\n",
    "        both_list.append(0)\n",
    "num_of_both_pass = both_list.count(1)\n",
    "print(num_of_both_pass)\n",
    "print(\"Probability that a bill that passed in both chambers will become law:\")\n",
    "prob_law_given_both = num_of_laws/num_of_both_pass\n",
    "print(prob_law_given_both)"
   ]
  },
  {
   "cell_type": "markdown",
   "id": "60d8338d",
   "metadata": {},
   "source": [
    "If we are just looking at whether any bill becomes law, it is a classification problem with *very* imbalanced classes.  We can reduce this problem by restricting to bills that pass in the House, Senate, or both -- but at the expense of a lot less data."
   ]
  },
  {
   "cell_type": "code",
   "execution_count": 3,
   "id": "53c574fc",
   "metadata": {},
   "outputs": [
    {
     "name": "stdout",
     "output_type": "stream",
     "text": [
      "House:\n",
      "539\n",
      "Senate:\n",
      "189\n",
      "Both:\n",
      "81\n"
     ]
    }
   ],
   "source": [
    "# Reduce the data sets\n",
    "\n",
    "bills_df_house = bills_df.loc[bills_df[\"pass_house.passed\"] == 1]\n",
    "print(\"House:\")\n",
    "print(len(bills_df_house))\n",
    "\n",
    "bills_df_senate = bills_df.loc[bills_df[\"pass_senate.passed\"] == 1]\n",
    "print(\"Senate:\")\n",
    "print(len(bills_df_senate))\n",
    "\n",
    "bills_df_both = bills_df[(bills_df[\"pass_house.passed\"] == 1) & (bills_df[\"pass_senate.passed\"] == 1)]\n",
    "print(\"Both:\")\n",
    "print(len(bills_df_both))"
   ]
  },
  {
   "cell_type": "markdown",
   "id": "870f64e6",
   "metadata": {},
   "source": [
    "## Feature selection"
   ]
  },
  {
   "cell_type": "code",
   "execution_count": 4,
   "id": "a4462029",
   "metadata": {},
   "outputs": [
    {
     "name": "stdout",
     "output_type": "stream",
     "text": [
      "Initial number of features:\n",
      "2382\n"
     ]
    }
   ],
   "source": [
    "# How many features?\n",
    "\n",
    "print(\"Initial number of features:\")\n",
    "print(len(bills_df.axes[1]))"
   ]
  },
  {
   "cell_type": "markdown",
   "id": "bc2bd800",
   "metadata": {},
   "source": [
    "2376 is too many!  One immediate technique to reduce dimensions is PCA.  It's not recommended for data that's mostly binary, but we can try it."
   ]
  },
  {
   "cell_type": "markdown",
   "id": "637cbcbe",
   "metadata": {},
   "source": [
    "### PCA\n",
    "\n",
    "Let's just see if any features are even correlated with a bill becoming a law."
   ]
  },
  {
   "cell_type": "code",
   "execution_count": 5,
   "id": "394fd3b5",
   "metadata": {},
   "outputs": [
    {
     "ename": "ValueError",
     "evalue": "could not convert string to float: 'Voice vote'",
     "output_type": "error",
     "traceback": [
      "\u001b[1;31m---------------------------------------------------------------------------\u001b[0m",
      "\u001b[1;31mValueError\u001b[0m                                Traceback (most recent call last)",
      "Input \u001b[1;32mIn [5]\u001b[0m, in \u001b[0;36m<cell line: 6>\u001b[1;34m()\u001b[0m\n\u001b[0;32m      3\u001b[0m pca \u001b[38;5;241m=\u001b[39m PCA()\n\u001b[0;32m      5\u001b[0m \u001b[38;5;66;03m# Scale, fit\u001b[39;00m\n\u001b[1;32m----> 6\u001b[0m scaled_law \u001b[38;5;241m=\u001b[39m \u001b[43mscaler\u001b[49m\u001b[38;5;241;43m.\u001b[39;49m\u001b[43mfit_transform\u001b[49m\u001b[43m(\u001b[49m\u001b[43mbills_df\u001b[49m\u001b[43m)\u001b[49m\n\u001b[0;32m      7\u001b[0m pca\u001b[38;5;241m.\u001b[39mfit(scaled_law)\n\u001b[0;32m      8\u001b[0m evr_law \u001b[38;5;241m=\u001b[39m pca\u001b[38;5;241m.\u001b[39mexplained_variance_ratio_\n",
      "File \u001b[1;32m~\\anaconda3\\lib\\site-packages\\sklearn\\base.py:852\u001b[0m, in \u001b[0;36mTransformerMixin.fit_transform\u001b[1;34m(self, X, y, **fit_params)\u001b[0m\n\u001b[0;32m    848\u001b[0m \u001b[38;5;66;03m# non-optimized default implementation; override when a better\u001b[39;00m\n\u001b[0;32m    849\u001b[0m \u001b[38;5;66;03m# method is possible for a given clustering algorithm\u001b[39;00m\n\u001b[0;32m    850\u001b[0m \u001b[38;5;28;01mif\u001b[39;00m y \u001b[38;5;129;01mis\u001b[39;00m \u001b[38;5;28;01mNone\u001b[39;00m:\n\u001b[0;32m    851\u001b[0m     \u001b[38;5;66;03m# fit method of arity 1 (unsupervised transformation)\u001b[39;00m\n\u001b[1;32m--> 852\u001b[0m     \u001b[38;5;28;01mreturn\u001b[39;00m \u001b[38;5;28mself\u001b[39m\u001b[38;5;241m.\u001b[39mfit(X, \u001b[38;5;241m*\u001b[39m\u001b[38;5;241m*\u001b[39mfit_params)\u001b[38;5;241m.\u001b[39mtransform(X)\n\u001b[0;32m    853\u001b[0m \u001b[38;5;28;01melse\u001b[39;00m:\n\u001b[0;32m    854\u001b[0m     \u001b[38;5;66;03m# fit method of arity 2 (supervised transformation)\u001b[39;00m\n\u001b[0;32m    855\u001b[0m     \u001b[38;5;28;01mreturn\u001b[39;00m \u001b[38;5;28mself\u001b[39m\u001b[38;5;241m.\u001b[39mfit(X, y, \u001b[38;5;241m*\u001b[39m\u001b[38;5;241m*\u001b[39mfit_params)\u001b[38;5;241m.\u001b[39mtransform(X)\n",
      "File \u001b[1;32m~\\anaconda3\\lib\\site-packages\\sklearn\\preprocessing\\_data.py:806\u001b[0m, in \u001b[0;36mStandardScaler.fit\u001b[1;34m(self, X, y, sample_weight)\u001b[0m\n\u001b[0;32m    804\u001b[0m \u001b[38;5;66;03m# Reset internal state before fitting\u001b[39;00m\n\u001b[0;32m    805\u001b[0m \u001b[38;5;28mself\u001b[39m\u001b[38;5;241m.\u001b[39m_reset()\n\u001b[1;32m--> 806\u001b[0m \u001b[38;5;28;01mreturn\u001b[39;00m \u001b[38;5;28;43mself\u001b[39;49m\u001b[38;5;241;43m.\u001b[39;49m\u001b[43mpartial_fit\u001b[49m\u001b[43m(\u001b[49m\u001b[43mX\u001b[49m\u001b[43m,\u001b[49m\u001b[43m \u001b[49m\u001b[43my\u001b[49m\u001b[43m,\u001b[49m\u001b[43m \u001b[49m\u001b[43msample_weight\u001b[49m\u001b[43m)\u001b[49m\n",
      "File \u001b[1;32m~\\anaconda3\\lib\\site-packages\\sklearn\\preprocessing\\_data.py:841\u001b[0m, in \u001b[0;36mStandardScaler.partial_fit\u001b[1;34m(self, X, y, sample_weight)\u001b[0m\n\u001b[0;32m    809\u001b[0m \u001b[38;5;124;03m\"\"\"Online computation of mean and std on X for later scaling.\u001b[39;00m\n\u001b[0;32m    810\u001b[0m \n\u001b[0;32m    811\u001b[0m \u001b[38;5;124;03mAll of X is processed as a single batch. This is intended for cases\u001b[39;00m\n\u001b[1;32m   (...)\u001b[0m\n\u001b[0;32m    838\u001b[0m \u001b[38;5;124;03m    Fitted scaler.\u001b[39;00m\n\u001b[0;32m    839\u001b[0m \u001b[38;5;124;03m\"\"\"\u001b[39;00m\n\u001b[0;32m    840\u001b[0m first_call \u001b[38;5;241m=\u001b[39m \u001b[38;5;129;01mnot\u001b[39;00m \u001b[38;5;28mhasattr\u001b[39m(\u001b[38;5;28mself\u001b[39m, \u001b[38;5;124m\"\u001b[39m\u001b[38;5;124mn_samples_seen_\u001b[39m\u001b[38;5;124m\"\u001b[39m)\n\u001b[1;32m--> 841\u001b[0m X \u001b[38;5;241m=\u001b[39m \u001b[38;5;28;43mself\u001b[39;49m\u001b[38;5;241;43m.\u001b[39;49m\u001b[43m_validate_data\u001b[49m\u001b[43m(\u001b[49m\n\u001b[0;32m    842\u001b[0m \u001b[43m    \u001b[49m\u001b[43mX\u001b[49m\u001b[43m,\u001b[49m\n\u001b[0;32m    843\u001b[0m \u001b[43m    \u001b[49m\u001b[43maccept_sparse\u001b[49m\u001b[38;5;241;43m=\u001b[39;49m\u001b[43m(\u001b[49m\u001b[38;5;124;43m\"\u001b[39;49m\u001b[38;5;124;43mcsr\u001b[39;49m\u001b[38;5;124;43m\"\u001b[39;49m\u001b[43m,\u001b[49m\u001b[43m \u001b[49m\u001b[38;5;124;43m\"\u001b[39;49m\u001b[38;5;124;43mcsc\u001b[39;49m\u001b[38;5;124;43m\"\u001b[39;49m\u001b[43m)\u001b[49m\u001b[43m,\u001b[49m\n\u001b[0;32m    844\u001b[0m \u001b[43m    \u001b[49m\u001b[43mestimator\u001b[49m\u001b[38;5;241;43m=\u001b[39;49m\u001b[38;5;28;43mself\u001b[39;49m\u001b[43m,\u001b[49m\n\u001b[0;32m    845\u001b[0m \u001b[43m    \u001b[49m\u001b[43mdtype\u001b[49m\u001b[38;5;241;43m=\u001b[39;49m\u001b[43mFLOAT_DTYPES\u001b[49m\u001b[43m,\u001b[49m\n\u001b[0;32m    846\u001b[0m \u001b[43m    \u001b[49m\u001b[43mforce_all_finite\u001b[49m\u001b[38;5;241;43m=\u001b[39;49m\u001b[38;5;124;43m\"\u001b[39;49m\u001b[38;5;124;43mallow-nan\u001b[39;49m\u001b[38;5;124;43m\"\u001b[39;49m\u001b[43m,\u001b[49m\n\u001b[0;32m    847\u001b[0m \u001b[43m    \u001b[49m\u001b[43mreset\u001b[49m\u001b[38;5;241;43m=\u001b[39;49m\u001b[43mfirst_call\u001b[49m\u001b[43m,\u001b[49m\n\u001b[0;32m    848\u001b[0m \u001b[43m\u001b[49m\u001b[43m)\u001b[49m\n\u001b[0;32m    849\u001b[0m n_features \u001b[38;5;241m=\u001b[39m X\u001b[38;5;241m.\u001b[39mshape[\u001b[38;5;241m1\u001b[39m]\n\u001b[0;32m    851\u001b[0m \u001b[38;5;28;01mif\u001b[39;00m sample_weight \u001b[38;5;129;01mis\u001b[39;00m \u001b[38;5;129;01mnot\u001b[39;00m \u001b[38;5;28;01mNone\u001b[39;00m:\n",
      "File \u001b[1;32m~\\anaconda3\\lib\\site-packages\\sklearn\\base.py:566\u001b[0m, in \u001b[0;36mBaseEstimator._validate_data\u001b[1;34m(self, X, y, reset, validate_separately, **check_params)\u001b[0m\n\u001b[0;32m    564\u001b[0m     \u001b[38;5;28;01mraise\u001b[39;00m \u001b[38;5;167;01mValueError\u001b[39;00m(\u001b[38;5;124m\"\u001b[39m\u001b[38;5;124mValidation should be done on X, y or both.\u001b[39m\u001b[38;5;124m\"\u001b[39m)\n\u001b[0;32m    565\u001b[0m \u001b[38;5;28;01melif\u001b[39;00m \u001b[38;5;129;01mnot\u001b[39;00m no_val_X \u001b[38;5;129;01mand\u001b[39;00m no_val_y:\n\u001b[1;32m--> 566\u001b[0m     X \u001b[38;5;241m=\u001b[39m check_array(X, \u001b[38;5;241m*\u001b[39m\u001b[38;5;241m*\u001b[39mcheck_params)\n\u001b[0;32m    567\u001b[0m     out \u001b[38;5;241m=\u001b[39m X\n\u001b[0;32m    568\u001b[0m \u001b[38;5;28;01melif\u001b[39;00m no_val_X \u001b[38;5;129;01mand\u001b[39;00m \u001b[38;5;129;01mnot\u001b[39;00m no_val_y:\n",
      "File \u001b[1;32m~\\anaconda3\\lib\\site-packages\\sklearn\\utils\\validation.py:746\u001b[0m, in \u001b[0;36mcheck_array\u001b[1;34m(array, accept_sparse, accept_large_sparse, dtype, order, copy, force_all_finite, ensure_2d, allow_nd, ensure_min_samples, ensure_min_features, estimator)\u001b[0m\n\u001b[0;32m    744\u001b[0m         array \u001b[38;5;241m=\u001b[39m array\u001b[38;5;241m.\u001b[39mastype(dtype, casting\u001b[38;5;241m=\u001b[39m\u001b[38;5;124m\"\u001b[39m\u001b[38;5;124munsafe\u001b[39m\u001b[38;5;124m\"\u001b[39m, copy\u001b[38;5;241m=\u001b[39m\u001b[38;5;28;01mFalse\u001b[39;00m)\n\u001b[0;32m    745\u001b[0m     \u001b[38;5;28;01melse\u001b[39;00m:\n\u001b[1;32m--> 746\u001b[0m         array \u001b[38;5;241m=\u001b[39m \u001b[43mnp\u001b[49m\u001b[38;5;241;43m.\u001b[39;49m\u001b[43masarray\u001b[49m\u001b[43m(\u001b[49m\u001b[43marray\u001b[49m\u001b[43m,\u001b[49m\u001b[43m \u001b[49m\u001b[43morder\u001b[49m\u001b[38;5;241;43m=\u001b[39;49m\u001b[43morder\u001b[49m\u001b[43m,\u001b[49m\u001b[43m \u001b[49m\u001b[43mdtype\u001b[49m\u001b[38;5;241;43m=\u001b[39;49m\u001b[43mdtype\u001b[49m\u001b[43m)\u001b[49m\n\u001b[0;32m    747\u001b[0m \u001b[38;5;28;01mexcept\u001b[39;00m ComplexWarning \u001b[38;5;28;01mas\u001b[39;00m complex_warning:\n\u001b[0;32m    748\u001b[0m     \u001b[38;5;28;01mraise\u001b[39;00m \u001b[38;5;167;01mValueError\u001b[39;00m(\n\u001b[0;32m    749\u001b[0m         \u001b[38;5;124m\"\u001b[39m\u001b[38;5;124mComplex data not supported\u001b[39m\u001b[38;5;130;01m\\n\u001b[39;00m\u001b[38;5;132;01m{}\u001b[39;00m\u001b[38;5;130;01m\\n\u001b[39;00m\u001b[38;5;124m\"\u001b[39m\u001b[38;5;241m.\u001b[39mformat(array)\n\u001b[0;32m    750\u001b[0m     ) \u001b[38;5;28;01mfrom\u001b[39;00m \u001b[38;5;21;01mcomplex_warning\u001b[39;00m\n",
      "File \u001b[1;32m~\\anaconda3\\lib\\site-packages\\pandas\\core\\generic.py:2064\u001b[0m, in \u001b[0;36mNDFrame.__array__\u001b[1;34m(self, dtype)\u001b[0m\n\u001b[0;32m   2063\u001b[0m \u001b[38;5;28;01mdef\u001b[39;00m \u001b[38;5;21m__array__\u001b[39m(\u001b[38;5;28mself\u001b[39m, dtype: npt\u001b[38;5;241m.\u001b[39mDTypeLike \u001b[38;5;241m|\u001b[39m \u001b[38;5;28;01mNone\u001b[39;00m \u001b[38;5;241m=\u001b[39m \u001b[38;5;28;01mNone\u001b[39;00m) \u001b[38;5;241m-\u001b[39m\u001b[38;5;241m>\u001b[39m np\u001b[38;5;241m.\u001b[39mndarray:\n\u001b[1;32m-> 2064\u001b[0m     \u001b[38;5;28;01mreturn\u001b[39;00m \u001b[43mnp\u001b[49m\u001b[38;5;241;43m.\u001b[39;49m\u001b[43masarray\u001b[49m\u001b[43m(\u001b[49m\u001b[38;5;28;43mself\u001b[39;49m\u001b[38;5;241;43m.\u001b[39;49m\u001b[43m_values\u001b[49m\u001b[43m,\u001b[49m\u001b[43m \u001b[49m\u001b[43mdtype\u001b[49m\u001b[38;5;241;43m=\u001b[39;49m\u001b[43mdtype\u001b[49m\u001b[43m)\u001b[49m\n",
      "\u001b[1;31mValueError\u001b[0m: could not convert string to float: 'Voice vote'"
     ]
    }
   ],
   "source": [
    "# Make the PCA objects\n",
    "scaler = StandardScaler()\n",
    "pca = PCA()\n",
    "\n",
    "# Scale, fit\n",
    "scaled_law = scaler.fit_transform(bills_df)\n",
    "pca.fit(scaled_law)\n",
    "evr_law = pca.explained_variance_ratio_\n",
    "comp_vects_law = pd.DataFrame(pca.components_.transpose(), index = bills_df.columns)\n",
    "#print(\"With became_law.signed:\")\n",
    "#comp_vects_law.sort_values(by = comp_vects_law.columns[0], ascending = False)"
   ]
  },
  {
   "cell_type": "code",
   "execution_count": null,
   "id": "dcdaec48",
   "metadata": {},
   "outputs": [],
   "source": [
    "# First n components with contributions\n",
    "cor_fea_all = cor_feat_pca(bills_df, 5, comp_vects_law)\n",
    "pprint.pprint(cor_fea_all, sort_dicts = False)"
   ]
  },
  {
   "cell_type": "markdown",
   "id": "29f490a2",
   "metadata": {},
   "source": [
    "Seems to show that parties tend to vote and sponsor along party lines, and whether a bill passes is somewhat correlated to the Republicans who vote \"yea\", which makes sense, since Republicans have the majority in the House.  No features seem obviously correlated to whether a bill becomes law, though."
   ]
  },
  {
   "cell_type": "markdown",
   "id": "cf05c8fe",
   "metadata": {},
   "source": [
    "We can be conservative about cutting out some features and still cut out a bit.  The top contribution to the first component is 0.047, and pass_house.votes.R has that value, so we can just delete all the \"yea\" Republicans with that score.  We'll do similar reductions with the other components"
   ]
  },
  {
   "cell_type": "code",
   "execution_count": null,
   "id": "e7208b1e",
   "metadata": {},
   "outputs": [],
   "source": [
    "to_remove = []\n",
    "for feature in cor_fea_all[\"Component1\"]:\n",
    "    if feature[1] == 0.047 and feature[0] != \"pass_house.votes.Yea.R\":\n",
    "        to_remove.append(feature[0])\n",
    "for feature in cor_fea_all[\"Component2\"]:\n",
    "    if feature[1] >= 0.054 and feature[0] != \"pass_house.votes.Nay.D\":\n",
    "        to_remove.append(feature[0])  \n",
    "for feature in cor_fea_all[\"Component3\"]:\n",
    "    if feature[1] >= 0.078 and feature[0] != \"pass_house.votes.Nay.R\":\n",
    "        to_remove.append(feature[0])        \n",
    "bills_df = bills_df.drop(columns = to_remove)        "
   ]
  },
  {
   "cell_type": "markdown",
   "id": "b407640a",
   "metadata": {},
   "source": [
    "Now lets trim all the data sets:"
   ]
  },
  {
   "cell_type": "code",
   "execution_count": null,
   "id": "9d0ba5f5",
   "metadata": {},
   "outputs": [],
   "source": [
    "bills_df_house = bills_df.loc[bills_df[\"pass_house.passed\"] == 1]\n",
    "bills_df_senate = bills_df.loc[bills_df[\"pass_senate.passed\"] == 1]\n",
    "bills_df_both = bills_df[(bills_df[\"pass_house.passed\"] == 1) & (bills_df[\"pass_senate.passed\"] == 1)]\n",
    "\n",
    "print(\"Number of remaining features:\")\n",
    "print(len(bills_df.axes[1]))"
   ]
  },
  {
   "cell_type": "code",
   "execution_count": null,
   "id": "8ce18ef2",
   "metadata": {},
   "outputs": [],
   "source": [
    "# PCA\n",
    "#\n",
    "# Drop the dependent variable and the redundant variables from the data frame\n",
    "#bills_df_PCA = bills_df.drop(columns=[\"became_law.signed\"])\n",
    "#bills_df_house_PCA = bills_df_house.drop(columns=[\"became_law.signed\", \"pass_house.passed\"])\n",
    "#bills_df_senate_PCA = bills_df_senate.drop(columns=[\"became_law.signed\", \"pass_senate.passed\"])\n",
    "#bills_df_both_PCA = bills_df_both.drop(columns=[\"became_law.signed\", \n",
    "#    \"pass_house.passed\", \"pass_senate.passed\"])\n",
    "\n",
    "# Scale\n",
    "#scaled = scaler.fit_transform(bills_df_PCA)\n",
    "#scaled_house = scaler.fit_transform(bills_df_house_PCA)\n",
    "#scaled_senate = scaler.fit_transform(bills_df_senate_PCA)\n",
    "#scaled_both = scaler.fit_transform(bills_df_both_PCA)\n",
    "#\n",
    "# Fit, components, explained variance ratios\n",
    "#\n",
    "# all\n",
    "#pca.fit(scaled)\n",
    "#evr = pca.explained_variance_ratio_\n",
    "#comp_vects = pd.DataFrame(pca.components_.transpose(), index = bills_df_PCA.columns)\n",
    "#\n",
    "# House\n",
    "#pca.fit(scaled_house)\n",
    "#evr_house = pca.explained_variance_ratio_\n",
    "#comp_vects_house = pd.DataFrame(pca.components_.transpose(), index = bills_df_house_PCA.columns)\n",
    "#\n",
    "# Senate\n",
    "#pca.fit(scaled_senate)\n",
    "#evr_senate = pca.explained_variance_ratio_\n",
    "#comp_vects_senate = pd.DataFrame(pca.components_.transpose(), index = bills_df_senate_PCA.columns)\n",
    "#\n",
    "# both\n",
    "#pca.fit(scaled_both)\n",
    "#evr_both = pca.explained_variance_ratio_\n",
    "#comp_vects_both = pd.DataFrame(pca.components_.transpose(), index = bills_df_both_PCA.columns)"
   ]
  },
  {
   "cell_type": "code",
   "execution_count": null,
   "id": "d293e16c",
   "metadata": {},
   "outputs": [],
   "source": [
    "#print(\"All bills:\")\n",
    "#comp_vects.sort_values(by = comp_vects.columns[0], ascending = False)"
   ]
  },
  {
   "cell_type": "code",
   "execution_count": null,
   "id": "0e7fdf40",
   "metadata": {},
   "outputs": [],
   "source": [
    "#print(\"House:\")\n",
    "#comp_vects_house.sort_values(by = comp_vects_house.columns[0], ascending = False)"
   ]
  },
  {
   "cell_type": "code",
   "execution_count": null,
   "id": "c8e1663b",
   "metadata": {},
   "outputs": [],
   "source": [
    "#print(\"Senate:\")\n",
    "#comp_vects_senate.sort_values(by = comp_vects_senate.columns[0], ascending = False)"
   ]
  },
  {
   "cell_type": "code",
   "execution_count": null,
   "id": "4199c5e1",
   "metadata": {},
   "outputs": [],
   "source": [
    "#print(\"Both:\")\n",
    "#comp_vects_both.sort_values(by = comp_vects_both.columns[0], ascending = False)"
   ]
  },
  {
   "cell_type": "code",
   "execution_count": null,
   "id": "8d80734b",
   "metadata": {},
   "outputs": [],
   "source": [
    "# Add an additional component's explained variance ratio \n",
    "#for i in range(1,len(bills_df_PCA.columns.values.tolist())+1,1):\n",
    "#    if round(sum(evr[0:i]),3)*100 <= 80 and round(sum(evr[0:i]),3)*100 > 75:\n",
    "#        print(\"First \"+str(i)+\" component(s) explain \"+str(round(sum(evr[0:i]),3)*100)+\"% of the variance in the features.\\n\")"
   ]
  },
  {
   "cell_type": "markdown",
   "id": "1a874de0",
   "metadata": {},
   "source": [
    "### Prince package and FAMD\n",
    "\n",
    "The categorical data analog to PCA is MCA, or multiple correspondence analysis.  However, our data frame contains both categorical and numerical data.  The `prince` package can handle different combinations of data, summarized in the flow chart on [this page](https://github.com/MaxHalford/prince/blob/master/README.md).  In our case, we use FAMD (factor analysis of mixed data)."
   ]
  },
  {
   "cell_type": "code",
   "execution_count": null,
   "id": "a2e32d06",
   "metadata": {},
   "outputs": [],
   "source": [
    "# Drop the dependent variable and the redundant variables from the data frames\n",
    "bills_df_dr = bills_df.drop(columns=[\"became_law.signed\"])\n",
    "bills_df_house_dr = bills_df_house.drop(columns=[\"became_law.signed\", \"pass_house.passed\"])\n",
    "bills_df_senate_dr = bills_df_senate.drop(columns=[\"became_law.signed\", \"pass_senate.passed\"])\n",
    "bills_df_both_dr = bills_df_both.drop(columns=[\"became_law.signed\", \n",
    "    \"pass_house.passed\", \"pass_senate.passed\"])"
   ]
  },
  {
   "cell_type": "code",
   "execution_count": null,
   "id": "6dcdbf57",
   "metadata": {},
   "outputs": [],
   "source": [
    "# Create the objects (uses defaluts from https://maxhalford.github.io/prince/famd/, except for \n",
    "# n_components)\n",
    "# Have to do it for each data frame to avoid an error\n",
    "famd_all = prince.FAMD(\n",
    "    n_components=10,\n",
    "    n_iter=3,\n",
    "    copy=True,\n",
    "    check_input=True,\n",
    "    random_state=42,\n",
    "    engine=\"sklearn\",\n",
    "    handle_unknown=\"error\"  # same parameter as sklearn.preprocessing.OneHotEncoder\n",
    ")\n",
    "famd_house = prince.FAMD(\n",
    "    n_components=10,\n",
    "    n_iter=3,\n",
    "    copy=True,\n",
    "    check_input=True,\n",
    "    random_state=42,\n",
    "    engine=\"sklearn\",\n",
    "    handle_unknown=\"error\"  # same parameter as sklearn.preprocessing.OneHotEncoder\n",
    ")\n",
    "famd_senate = prince.FAMD(\n",
    "    n_components=10,\n",
    "    n_iter=3,\n",
    "    copy=True,\n",
    "    check_input=True,\n",
    "    random_state=42,\n",
    "    engine=\"sklearn\",\n",
    "    handle_unknown=\"error\"  # same parameter as sklearn.preprocessing.OneHotEncoder\n",
    ")\n",
    "famd_both = prince.FAMD(\n",
    "    n_components=10,\n",
    "    n_iter=3,\n",
    "    copy=True,\n",
    "    check_input=True,\n",
    "    random_state=42,\n",
    "    engine=\"sklearn\",\n",
    "    handle_unknown=\"error\"  # same parameter as sklearn.preprocessing.OneHotEncoder\n",
    ")\n",
    "\n",
    "# Fit\n",
    "print(\"(fit all)\") # for debugging\n",
    "s_fa = time.time() # for debugging\n",
    "famd_all = famd_all.fit(bills_df_dr)\n",
    "e_fa = time.time() # for debugging\n",
    "time_elapsed(s_fa, e_fa) # for debugging\n",
    "\n",
    "print(\"(fit House)\") # for debugging\n",
    "s_fh = time.time() # for debugging\n",
    "famd_house = famd_house.fit(bills_df_house_dr)\n",
    "e_fh = time.time() # for debugging\n",
    "time_elapsed(s_fh, e_fh) # for debugging\n",
    "\n",
    "print(\"(fit Senate)\") # for debugging\n",
    "s_fs = time.time() # for debugging\n",
    "famd_senate = famd_senate.fit(bills_df_senate_dr)\n",
    "e_fs = time.time() # for debugging\n",
    "time_elapsed(s_fs, e_fs) # for debugging\n",
    "\n",
    "print(\"(fit both)\") # for debugging\n",
    "s_fb = time.time() # for debugging\n",
    "famd_both = famd_both.fit(bills_df_both_dr)\n",
    "e_fb = time.time() # for debugging\n",
    "time_elapsed(s_fb, e_fb) # for debugging"
   ]
  },
  {
   "cell_type": "code",
   "execution_count": null,
   "id": "40f3b9b1",
   "metadata": {},
   "outputs": [],
   "source": [
    "# Eigenvalues\n",
    "\n",
    "print(\"Components (all):\")\n",
    "print(famd_all.eigenvalues_summary)\n",
    "print(\"Components (House):\")\n",
    "print(famd_house.eigenvalues_summary)\n",
    "print(\"Components (Senate):\")\n",
    "print(famd_senate.eigenvalues_summary)\n",
    "print(\"Components (both):\")\n",
    "print(famd_both.eigenvalues_summary)"
   ]
  },
  {
   "cell_type": "code",
   "execution_count": null,
   "id": "27140ab5",
   "metadata": {},
   "outputs": [],
   "source": [
    "# Contributions\n",
    "\n",
    "print(\"All:\")\n",
    "(\n",
    "    famd_all.column_contributions_\n",
    "    .sort_values(0, ascending=False)\n",
    "    #.head(10)\n",
    "    .style.format('{:.8%}')\n",
    ")"
   ]
  },
  {
   "cell_type": "code",
   "execution_count": null,
   "id": "f696af36",
   "metadata": {},
   "outputs": [],
   "source": [
    "print(\"House:\")\n",
    "(\n",
    "    famd_house.column_contributions_\n",
    "    .sort_values(0, ascending=False)\n",
    "    #.head(10)\n",
    "    .style.format('{:.8%}')\n",
    ")"
   ]
  },
  {
   "cell_type": "code",
   "execution_count": null,
   "id": "723fadbb",
   "metadata": {},
   "outputs": [],
   "source": [
    "print(\"Senate:\")\n",
    "(\n",
    "    famd_senate.column_contributions_\n",
    "    .sort_values(0, ascending=False)\n",
    "    #.head(10)\n",
    "    .style.format('{:.8%}')\n",
    ")"
   ]
  },
  {
   "cell_type": "code",
   "execution_count": null,
   "id": "6afc2914",
   "metadata": {},
   "outputs": [],
   "source": [
    "print(\"Both:\")\n",
    "(\n",
    "    famd_both.column_contributions_\n",
    "    .sort_values(0, ascending=False)\n",
    "    #.head(10)\n",
    "    .style.format('{:.8%}')\n",
    ")"
   ]
  },
  {
   "cell_type": "markdown",
   "id": "ec9403d5",
   "metadata": {},
   "source": [
    "### Further heuristic dimension reduction"
   ]
  },
  {
   "cell_type": "code",
   "execution_count": null,
   "id": "6f07f446",
   "metadata": {},
   "outputs": [],
   "source": [
    "# Don't do this until severe dimension reduction\n",
    "# Or look for correlation between pairs of features\n",
    "#\n",
    "#start_cor = time.time() # for debugging\n",
    "#cor_mtx = bills_df_PCA.corr()\n",
    "#min_corr_coef = 0.95 #input(\"How correlated do you want the variables (should be between -1 and 1)?\")\n",
    "#corr_pairs = []\n",
    "#for i in range(len(bills_df_PCA.columns.values.tolist())):\n",
    "#    for j in range(i,len(bills_df_PCA.columns.values.tolist()),1):\n",
    "#        if (cor_mtx.iloc[i,j] >= min_corr_coef or cor_mtx.iloc[i,j] <= -min_corr_coef) \\\n",
    "#            and cor_mtx.iloc[i,j] != 1 and cor_mtx.iloc[i,j] != -1: \n",
    "#            corr_pairs.append([cor_mtx.index.tolist()[i], cor_mtx.columns.tolist()[j], round(cor_mtx.iloc[i,j],3)])\n",
    "#print(\"Correlated pairs of features are:\")\n",
    "#sorted(corr_pairs, key = lambda x: abs(float(x[2])), reverse=True)\n",
    "#end_cor = time.time() # for debugging\n",
    "#time_elapsed(start_cor, end_corr) # for debugging"
   ]
  },
  {
   "cell_type": "code",
   "execution_count": null,
   "id": "721829d9",
   "metadata": {},
   "outputs": [],
   "source": [
    "# Trim/merge some features, based on correlations\n",
    "\n",
    "# Combine Senate Democrat and Independent yeas and nays\n",
    "#bills_df[\"pass_senate.votes.Yea.DI\"] = bills_df[\"pass_senate.votes.Yea.D\"]\n",
    "#+bills_df[\"pass_senate.votes.Yea.I\"]\n",
    "#bills_df[\"pass_senate.votes.Nay.DI\"] = bills_df[\"pass_senate.votes.Nay.D\"]\n",
    "#+bills_df[\"pass_senate.votes.Nay.I\"]\n",
    "\n",
    "# Remove unwanted features\n",
    "#remove_features = [\"chamber.S\", \"pass_house.passed\", \"pass_senate.passed\", \"pass_senate.votes.Yea.D\", \n",
    "#    \"pass_senate.votes.Yea.I\", \"pass_senate.votes.Nay.D\", \"pass_senate.votes.Nay.I\"]\n",
    "#bills_df = bills_df.drop(columns=remove_features)\n",
    "#bills_df.columns.values.tolist()"
   ]
  },
  {
   "cell_type": "markdown",
   "id": "5e6f8e1f",
   "metadata": {},
   "source": [
    "## Export to a file"
   ]
  },
  {
   "cell_type": "code",
   "execution_count": null,
   "id": "b16c23f4",
   "metadata": {},
   "outputs": [],
   "source": [
    "# Export to a file for model tests\n",
    "bills_df.to_csv(\"FinalDataSets//final_data.csv\", index=False)\n",
    "bills_df_house.to_csv(\"FinalDataSets//final_data_house.csv\", index=False)\n",
    "bills_df_senate.to_csv(\"FinalDataSets//final_data_senate.csv\", index=False)\n",
    "bills_df_both.to_csv(\"FinalDataSets//final_data_both.csv\", index=False)"
   ]
  }
 ],
 "metadata": {
  "kernelspec": {
   "display_name": "Python 3 (ipykernel)",
   "language": "python",
   "name": "python3"
  },
  "language_info": {
   "codemirror_mode": {
    "name": "ipython",
    "version": 3
   },
   "file_extension": ".py",
   "mimetype": "text/x-python",
   "name": "python",
   "nbconvert_exporter": "python",
   "pygments_lexer": "ipython3",
   "version": "3.9.12"
  }
 },
 "nbformat": 4,
 "nbformat_minor": 5
}
