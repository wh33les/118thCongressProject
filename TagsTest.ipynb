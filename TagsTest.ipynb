{
 "cells": [
  {
   "cell_type": "code",
   "execution_count": 43,
   "id": "ee5167b6",
   "metadata": {},
   "outputs": [
    {
     "name": "stdout",
     "output_type": "stream",
     "text": [
      "[\"[['feature',\", \"'Unions\", 'Have', 'Been', 'Under', 'Attack', 'For', 'Decades,', 'But', 'Michigan', 'Just', 'Gave', 'Them', 'A', 'Big', \"Win',\", \"'https://fivethirtyeight.com/features/unions-have-been-under-attack-for-decades-but-michigan-just-gave-them-a-big-win/',\", '\"[\\'Monica', 'Potts\\']\",', \"'Mar.\", '24,', '2023,', 'at', '3:37', \"PM',\", '\"[\\'Partisanship\\';', \"'State\", \"Legislatures';\", \"'Labor';\", '\\'Unions\\']\",', \"'7'],\", \"['feature',\", \"'Which\", 'Taylor', 'Swift', 'Album', 'Is', 'The', 'Most', \"Popular?',\", \"'https://fivethirtyeight.com/features/taylor-swift-eras-tour-polling/',\", '\"[\\'Nathaniel', 'Rakich\\']\",', \"'Mar.\", '24,', '2023,', 'at', '6:00', \"AM',\", '\"[\\'Polling\\';', \"'Polls';\", \"'Pollapalooza';\", \"'Pollsters';\", \"'Music';\", \"'Pop\", \"Music';\", \"'Margin\", 'Of', 'Error\\']\",', \"'4'],\", \"['podcast',\", \"'Will\", 'Voters', 'Care', 'If', 'Trump', 'Gets', \"Indicted?',\", \"'https://fivethirtyeight.com/videos/will-voters-care-if-trump-gets-indicted/',\", '\"[\\'Galen', \"Druke';\", \"'Amelia\", \"Thomson-DeVeaux';\", \"'Nathaniel\", 'Rakich\\']\",', \"'Mar.\", '23,', \"2023',\", '\"[\\'Donald', \"Trump';\", \"'Politics\", \"Podcast';\", \"'Video';\", \"'2024\", 'Presidential', \"Election';\", \"'Stormy\", 'Daniels\\']\",', \"'13'],\", \"['podcast',\", '\"Politics', 'Podcast:', 'The', 'Manhattan', 'DA', 'Might', 'Be', 'The', 'Least', 'Of', \"Trump's\", 'Legal', 'Worries', '\",', \"'https://fivethirtyeight.com/features/politics-podcast-the-manhattan-da-might-be-the-least-of-trumps-legal-worries/',\", '\"[\\'Galen', \"Druke';\", \"'Amelia\", \"Thomson-DeVeaux';\", \"'Nathaniel\", 'Rakich\\']\",', \"'Mar.\", '23,', \"2023',\", '\"[\\'Donald', \"Trump';\", \"'FiveThirtyEight\", \"Podcasts';\", \"'Politics\", \"Podcast';\", \"'Jan.\", '6', 'Investigation\\']\",', \"'3'],\", \"['video',\", \"'Why\", 'Is', 'Biden', 'Moving', 'To', 'The', 'Political', \"Center?',\", \"'https://fivethirtyeight.com/videos/why-is-biden-moving-to-the-political-center/',\", '\"[\\'Nathaniel', \"Rakich';\", \"'Tony\", 'Chow\\']\",', \"'Mar.\", '23,', \"2023',\", \"'[\\\\'Video\\\\';\", \"\\\\'Joe\", \"Biden\\\\';\", \"\\\\'Polling\\\\';\", \"\\\\'2022\", \"Election\\\\';\", \"\\\\'Featured\", \"video\\\\';\", \"\\\\'The\", 'Biden', \"Administration\\\\';\", \"\\\\'Presidential\", \"Approval\\\\';\", \"\\\\'2024\", 'Presidential', \"Election\\\\';\", \"\\\\'2024\", \"Election\\\\';\", '\"What\\\\\\'s', 'The', 'Deal\"]\\',', \"'15'],\", \"['feature',\", \"'Recess\", 'Is', 'Good', 'For', 'Kids.', 'Why', 'Don’t', 'More', 'States', 'Require', \"It?',\", \"'https://fivethirtyeight.com/features/recess-is-good-for-kids-why-dont-more-states-require-it/',\", '\"[\\'Monica', 'Potts\\']\",', \"'Mar.\", '23,', '2023,', 'at', '6:00', \"AM',\", '\"[\\'Education\\';', \"'State\", \"Legislatures';\", \"'Schools';\", \"'Child\", \"development';\", \"'Play';\", '\\'Recess\\']\",', \"'6'],\", \"['feature',\", \"'What\", 'We', 'Know', 'About', 'Trump’s', 'Legal', \"Troubles',\", \"'https://fivethirtyeight.com/features/what-we-know-about-trumps-legal-troubles/',\", '\"[\\'Amelia', 'Thomson-DeVeaux\\']\",', \"'Mar.\", '22,', '2023,', 'at', '12:57', \"PM',\", '\"[\\'Donald', \"Trump';\", \"'2020\", \"Election';\", \"'Jan.\", '6', \"Investigation';\", \"'Michael\", \"Cohen';\", \"'Election\", \"Fraud';\", \"'Justice\", 'Department\\']\",', \"'11'],\", \"['feature',\", \"'What\", 'Happens', 'If', 'Trump', 'Is', \"Indicted?',\", \"'https://fivethirtyeight.com/features/trump-indictment-2024-election-chat/',\", '\"[\\'Nathaniel', \"Rakich';\", \"'Amelia\", \"Thomson-DeVeaux';\", \"'Geoffrey\", \"Skelley';\", \"'Kaleigh\", 'Rogers\\']\",', \"'Mar.\", '21,', '2023,', 'at', '1:16', \"PM',\", '\"[\\'Donald', \"Trump';\", \"'Slack\", \"Chat';\", \"'Scandals';\", \"'2024\", \"Election';\", \"'2024\", 'Republican', \"Primary';\", \"'Stormy\", 'Daniels\\']\",', \"'13'],\", \"['feature',\", \"'States\", 'Are', 'Cracking', 'Down', 'On', 'Militias', '—', 'Except', 'For', \"Idaho',\", \"'https://fivethirtyeight.com/features/state-militia-laws/',\", '\"[\\'Kaleigh', 'Rogers\\']\",', \"'Mar.\", '21,', '2023,', 'at', '6:00', \"AM',\", '\"[\\'Oregon\\';', \"'New\", \"Mexico';\", \"'State\", \"Legislatures';\", \"'Vermont';\", \"'Idaho';\", \"'Militias';\", \"'Political\", 'Violence\\']\",', \"'10'],\", \"['podcast',\", \"'Bank\", 'Bailout', 'Politics', \"2.0',\", \"'https://fivethirtyeight.com/videos/bank-bailout-politics-2-0/',\", '\"[\\'Galen', \"Druke';\", \"'Nate\", \"Silver';\", \"'Santul\", \"Nerkar';\", \"'Monica\", 'Potts\\']\",', \"'Mar.\", '20,', \"2023',\", '\"[\\'Politics', \"Podcast';\", \"'Video';\", \"'Bailout';\", \"'Financial\", \"Regulation';\", \"'Financial\", 'Crisis\\']\",', \"'6']]\"]\n"
     ]
    },
    {
     "data": {
      "text/plain": [
       "[('\"[\\'Galen', \"Druke';\"),\n",
       " (\"'Amelia\", \"Thomson-DeVeaux';\"),\n",
       " (\"'State\", \"Legislatures';\"),\n",
       " ('6:00', \"AM',\"),\n",
       " ('\"[\\'Donald', \"Trump';\"),\n",
       " ('23,', \"2023',\"),\n",
       " ('2023,', 'at'),\n",
       " ('at', '6:00'),\n",
       " (\"'Mar.\", '23,'),\n",
       " ('Potts\\']\",', \"'Mar.\")]"
      ]
     },
     "execution_count": 43,
     "metadata": {},
     "output_type": "execute_result"
    }
   ],
   "source": [
    "import nltk\n",
    "\n",
    "from nltk.collocations import *\n",
    "bigram_measures = nltk.collocations.BigramAssocMeasures()\n",
    "trigram_measures = nltk.collocations.TrigramAssocMeasures()\n",
    "fourgram_measures = nltk.collocations.QuadgramAssocMeasures()\n",
    "\n",
    "# Turns the text file into a list of words.  Code found at \n",
    "    # https://stackoverflow.com/questions/63211152/nltk-norpus-unable-to-read-text-file\n",
    "with open('10_25-03-2023_13-15-59.txt', 'r') as f:\n",
    "    wordstocheck = f.read().split()\n",
    "    print(wordstocheck)\n",
    "\n",
    "# change this to read in your data\n",
    "finder = BigramCollocationFinder.from_words(wordstocheck)\n",
    "finder3 = TrigramCollocationFinder.from_words(wordstocheck)\n",
    "\n",
    "# only bigrams that appear 3+ times\n",
    "finder.apply_freq_filter(3)\n",
    "finder3.apply_freq_filter(3)\n",
    "\n",
    "# return the 10 n-grams with the highest PMI\n",
    "finder.nbest(bigram_measures.pmi, 10)\n",
    "#finder3.nbest(trigram_measures.pmi,10)"
   ]
  },
  {
   "cell_type": "code",
   "execution_count": null,
   "id": "a3d0b43a",
   "metadata": {},
   "outputs": [],
   "source": []
  }
 ],
 "metadata": {
  "kernelspec": {
   "display_name": "Python 3 (ipykernel)",
   "language": "python",
   "name": "python3"
  },
  "language_info": {
   "codemirror_mode": {
    "name": "ipython",
    "version": 3
   },
   "file_extension": ".py",
   "mimetype": "text/x-python",
   "name": "python",
   "nbconvert_exporter": "python",
   "pygments_lexer": "ipython3",
   "version": "3.9.12"
  }
 },
 "nbformat": 4,
 "nbformat_minor": 5
}
