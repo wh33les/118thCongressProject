{
 "cells": [
  {
   "cell_type": "code",
   "execution_count": 41,
   "id": "1fe061bf",
   "metadata": {},
   "outputs": [
    {
     "data": {
      "text/plain": [
       "[('at', '6:00', \"AM',\"), ('2023,', 'at', '6:00'), (\"'Mar.\", '23,', \"2023',\")]"
      ]
     },
     "execution_count": 41,
     "metadata": {},
     "output_type": "execute_result"
    }
   ],
   "source": [
    "import nltk\n",
    "\n",
    "from nltk.collocations import *\n",
    "bigram_measures = nltk.collocations.BigramAssocMeasures()\n",
    "trigram_measures = nltk.collocations.TrigramAssocMeasures()\n",
    "fourgram_measures = nltk.collocations.QuadgramAssocMeasures()\n",
    "\n",
    "# Turns the text file into a list of words.  Code found at \n",
    "    # https://stackoverflow.com/questions/63211152/nltk-norpus-unable-to-read-text-file\n",
    "with open('10_25-03-2023_13-15-59.txt', 'r') as f:\n",
    "    wordstocheck = f.read().split()\n",
    "\n",
    "# change this to read in your data\n",
    "finder = BigramCollocationFinder.from_words(wordstocheck)\n",
    "finder3 = TrigramCollocationFinder.from_words(wordstocheck)\n",
    "\n",
    "# only bigrams that appear 3+ times\n",
    "finder.apply_freq_filter(3)\n",
    "finder3.apply_freq_filter(3)\n",
    "\n",
    "# return the 10 n-grams with the highest PMI\n",
    "finder.nbest(bigram_measures.pmi, 10)\n",
    "finder3.nbest(trigram_measures.pmi,10)"
   ]
  },
  {
   "cell_type": "code",
   "execution_count": null,
   "id": "3f3dcefd",
   "metadata": {},
   "outputs": [],
   "source": []
  }
 ],
 "metadata": {
  "kernelspec": {
   "display_name": "Python 3 (ipykernel)",
   "language": "python",
   "name": "python3"
  },
  "language_info": {
   "codemirror_mode": {
    "name": "ipython",
    "version": 3
   },
   "file_extension": ".py",
   "mimetype": "text/x-python",
   "name": "python",
   "nbconvert_exporter": "python",
   "pygments_lexer": "ipython3",
   "version": "3.9.12"
  }
 },
 "nbformat": 4,
 "nbformat_minor": 5
}
